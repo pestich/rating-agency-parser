{
 "cells": [
  {
   "cell_type": "code",
   "execution_count": 1,
   "metadata": {},
   "outputs": [],
   "source": [
    "import time\n",
    "import pandas as pd\n",
    "import json\n",
    "import urllib.request\n",
    "\n",
    "from tqdm import tqdm\n",
    "tqdm.pandas()\n",
    "\n",
    "from selenium import webdriver\n",
    "from selenium.webdriver.common.by import By\n",
    "from bs4 import BeautifulSoup\n",
    "from math import ceil"
   ]
  },
  {
   "cell_type": "code",
   "execution_count": 21,
   "metadata": {},
   "outputs": [],
   "source": [
    "def get_text_general(web_element) -> str:\n",
    "    soup = BeautifulSoup(web_element.get_attribute('outerHTML'), \"html.parser\")\n",
    "    paragraphs = soup.find_all('p')\n",
    "    result = ''\n",
    "    for paragraph in paragraphs:\n",
    "        result += (paragraph.text.strip() + '\\n')\n",
    "    return result\n"
   ]
  },
  {
   "cell_type": "code",
   "execution_count": 31,
   "metadata": {},
   "outputs": [],
   "source": [
    "def get_text_add(web_element) -> str:\n",
    "    soup = BeautifulSoup(web_element.get_attribute('outerHTML'), \"html.parser\")\n",
    "    paragraphs = soup.find_all('p')\n",
    "    blocks = soup.find_all('ul')\n",
    "    result = ''\n",
    "    for i in range(len(paragraphs)):\n",
    "        result += (paragraphs[i].text.strip() + '\\n')\n",
    "        try: \n",
    "            lines = blocks[i].find_all('li')\n",
    "            for line in lines:\n",
    "                result += (line.text.strip() + '\\n')\n",
    "        except:\n",
    "            continue\n",
    "    return result"
   ]
  },
  {
   "cell_type": "code",
   "execution_count": 34,
   "metadata": {},
   "outputs": [],
   "source": [
    "def parse_text(link: str) -> str:\n",
    "    try:\n",
    "        options = webdriver.ChromeOptions()\n",
    "        options.add_argument('--headless')\n",
    "\n",
    "        browser = webdriver.Chrome(options=options)\n",
    "        browser.get(link)\n",
    "        time.sleep(2)\n",
    "\n",
    "        browser.find_element(By.XPATH, '/html/body/div[2]/div/section[2]/div/div[2]/div/div/div/div/section/div/nav/ul/li[1]/a/span').click()\n",
    "        text = browser.find_element(By.XPATH, '/html/body/div[2]/div/section[2]/div/div[2]/div/div/div/div/section/div/div/section[1]/div/div/span')\n",
    "        part_1 = get_text_general(text)\n",
    "        time.sleep(1)\n",
    "\n",
    "        browser.find_element(By.XPATH, '/html/body/div[2]/div/section[2]/div/div[2]/div/div/div/div/section/div/nav/ul/li[2]/a/span').click()\n",
    "        text = browser.find_element(By.XPATH, '/html/body/div[2]/div/section[2]/div/div[2]/div/div/div/div/section/div/div/section[2]/div/div/span')\n",
    "        part_2 = get_text_add(text)\n",
    "        time.sleep(1)\n",
    "\n",
    "        browser.quit()\n",
    "\n",
    "        return part_1 + part_2\n",
    "    except:\n",
    "        return None"
   ]
  },
  {
   "cell_type": "code",
   "execution_count": 26,
   "metadata": {},
   "outputs": [
    {
     "data": {
      "text/plain": [
       "('nra_data.xlsx', <http.client.HTTPMessage at 0x1fbedf2fa90>)"
      ]
     },
     "execution_count": 26,
     "metadata": {},
     "output_type": "execute_result"
    }
   ],
   "source": [
    "destination = '../dataoutput/nra_data.xlsx'\n",
    "url = 'https://www.ra-national.ru/wp-load.php?security_key=100c906f36a0b90e&export_id=20&action=get_data'\n",
    "urllib.request.urlretrieve(url, destination)"
   ]
  },
  {
   "cell_type": "code",
   "execution_count": 27,
   "metadata": {},
   "outputs": [],
   "source": [
    "df = pd.read_excel('../dataoutput/nra_data.xlsx')"
   ]
  },
  {
   "cell_type": "code",
   "execution_count": 35,
   "metadata": {},
   "outputs": [
    {
     "name": "stderr",
     "output_type": "stream",
     "text": [
      "100%|██████████| 312/312 [1:28:48<00:00, 17.08s/it]\n"
     ]
    }
   ],
   "source": [
    "df['text'] = df['Ссылка на пресс релиз'].progress_apply(parse_text)"
   ]
  },
  {
   "cell_type": "code",
   "execution_count": 40,
   "metadata": {},
   "outputs": [
    {
     "data": {
      "text/html": [
       "<div>\n",
       "<style scoped>\n",
       "    .dataframe tbody tr th:only-of-type {\n",
       "        vertical-align: middle;\n",
       "    }\n",
       "\n",
       "    .dataframe tbody tr th {\n",
       "        vertical-align: top;\n",
       "    }\n",
       "\n",
       "    .dataframe thead th {\n",
       "        text-align: right;\n",
       "    }\n",
       "</style>\n",
       "<table border=\"1\" class=\"dataframe\">\n",
       "  <thead>\n",
       "    <tr style=\"text-align: right;\">\n",
       "      <th></th>\n",
       "      <th>id</th>\n",
       "      <th>Название организации</th>\n",
       "      <th>ИНН</th>\n",
       "      <th>Название пресс-релиза</th>\n",
       "      <th>Дата опубликования пресс-релиза</th>\n",
       "      <th>Рейтинг</th>\n",
       "      <th>Статус рейтинга</th>\n",
       "      <th>Прогноз</th>\n",
       "      <th>Вид рейтинга</th>\n",
       "      <th>Сектор организации</th>\n",
       "      <th>Ссылка на пресс релиз</th>\n",
       "      <th>text</th>\n",
       "    </tr>\n",
       "  </thead>\n",
       "  <tbody>\n",
       "    <tr>\n",
       "      <th>34</th>\n",
       "      <td>36487</td>\n",
       "      <td>АО «НПФ ГАЗФОНД пенсионные накопления»</td>\n",
       "      <td>7726445147</td>\n",
       "      <td>НРА подтвердило некредитный рейтинг надежности...</td>\n",
       "      <td>27.04.2023</td>\n",
       "      <td>AAA|ru.pf|</td>\n",
       "      <td>Подтверждён</td>\n",
       "      <td>Стабильный</td>\n",
       "      <td>Рейтинг надежности и качества услуг НПФ</td>\n",
       "      <td>Негосударственные пенсионные фонды</td>\n",
       "      <td>https://www.ra-national.ru/press_release/ao-np...</td>\n",
       "      <td>ПОДТВЕРЖДЕН НЕКРЕДИТНЫЙ РЕЙТИНГ\\nОбщество с ог...</td>\n",
       "    </tr>\n",
       "    <tr>\n",
       "      <th>32</th>\n",
       "      <td>36491</td>\n",
       "      <td>АО «Дальневосточный банк»</td>\n",
       "      <td>2540016961</td>\n",
       "      <td>НРА подтвердило кредитный рейтинг АО «Дальнево...</td>\n",
       "      <td>28.04.2023</td>\n",
       "      <td>BBB|ru|</td>\n",
       "      <td>Подтверждён</td>\n",
       "      <td>Позитивный</td>\n",
       "      <td>Кредитный рейтинг кредитных организаций</td>\n",
       "      <td>Банки</td>\n",
       "      <td>https://www.ra-national.ru/press_release/ao-da...</td>\n",
       "      <td>ПОДТВЕРЖДЕН КРЕДИТНЫЙ РЕЙТИНГ\\nОбщество с огра...</td>\n",
       "    </tr>\n",
       "    <tr>\n",
       "      <th>98</th>\n",
       "      <td>34876</td>\n",
       "      <td>АО «Страховая компания Гайде»</td>\n",
       "      <td>7809016423</td>\n",
       "      <td>НРА присвоило кредитный рейтинг АО «Страховая ...</td>\n",
       "      <td>07.10.2022</td>\n",
       "      <td>BB+|ru|</td>\n",
       "      <td>Присвоен</td>\n",
       "      <td>Стабильный</td>\n",
       "      <td>Кредитный рейтинг страховых компаний</td>\n",
       "      <td>Страховые компании</td>\n",
       "      <td>https://www.ra-national.ru/press_release/ao-gr...</td>\n",
       "      <td>Общество с ограниченной ответственностью «Наци...</td>\n",
       "    </tr>\n",
       "    <tr>\n",
       "      <th>57</th>\n",
       "      <td>36206</td>\n",
       "      <td>ЗПИФ недвижимости «ПНК-Рентал»</td>\n",
       "      <td>7703471817</td>\n",
       "      <td>НРА отозвало некредитный рейтинг надежности и ...</td>\n",
       "      <td>16.02.2023</td>\n",
       "      <td>—</td>\n",
       "      <td>Отозван</td>\n",
       "      <td>Без прогноза</td>\n",
       "      <td>Рейтинг надежности и инвестиционной привлекате...</td>\n",
       "      <td>ЗПИФ</td>\n",
       "      <td>https://www.ra-national.ru/press_release/zpif-...</td>\n",
       "      <td>Общество с ограниченной ответственностью «Наци...</td>\n",
       "    </tr>\n",
       "    <tr>\n",
       "      <th>29</th>\n",
       "      <td>36524</td>\n",
       "      <td>ВЕЛЕС ТРАСТ</td>\n",
       "      <td>7703603950</td>\n",
       "      <td>НРА отозвало некредитный рейтинг надежности и ...</td>\n",
       "      <td>04.05.2023</td>\n",
       "      <td>—</td>\n",
       "      <td>Отозван</td>\n",
       "      <td>Без прогноза</td>\n",
       "      <td>Рейтинг надежности и качества услуг УК</td>\n",
       "      <td>Управляющие компании</td>\n",
       "      <td>https://www.ra-national.ru/press_release/veles...</td>\n",
       "      <td>ОТОЗВАН НЕКРЕДИТНЫЙ РЕЙТИНГ\\nОбщество с ограни...</td>\n",
       "    </tr>\n",
       "  </tbody>\n",
       "</table>\n",
       "</div>"
      ],
      "text/plain": [
       "       id                    Название организации         ИНН  \\\n",
       "34  36487  АО «НПФ ГАЗФОНД пенсионные накопления»  7726445147   \n",
       "32  36491               АО «Дальневосточный банк»  2540016961   \n",
       "98  34876           АО «Страховая компания Гайде»  7809016423   \n",
       "57  36206          ЗПИФ недвижимости «ПНК-Рентал»  7703471817   \n",
       "29  36524                             ВЕЛЕС ТРАСТ  7703603950   \n",
       "\n",
       "                                Название пресс-релиза  \\\n",
       "34  НРА подтвердило некредитный рейтинг надежности...   \n",
       "32  НРА подтвердило кредитный рейтинг АО «Дальнево...   \n",
       "98  НРА присвоило кредитный рейтинг АО «Страховая ...   \n",
       "57  НРА отозвало некредитный рейтинг надежности и ...   \n",
       "29  НРА отозвало некредитный рейтинг надежности и ...   \n",
       "\n",
       "   Дата опубликования пресс-релиза     Рейтинг Статус рейтинга       Прогноз  \\\n",
       "34                      27.04.2023  AAA|ru.pf|     Подтверждён    Стабильный   \n",
       "32                      28.04.2023     BBB|ru|     Подтверждён    Позитивный   \n",
       "98                      07.10.2022     BB+|ru|        Присвоен    Стабильный   \n",
       "57                      16.02.2023           —         Отозван  Без прогноза   \n",
       "29                      04.05.2023           —         Отозван  Без прогноза   \n",
       "\n",
       "                                         Вид рейтинга  \\\n",
       "34            Рейтинг надежности и качества услуг НПФ   \n",
       "32            Кредитный рейтинг кредитных организаций   \n",
       "98               Кредитный рейтинг страховых компаний   \n",
       "57  Рейтинг надежности и инвестиционной привлекате...   \n",
       "29             Рейтинг надежности и качества услуг УК   \n",
       "\n",
       "                    Сектор организации  \\\n",
       "34  Негосударственные пенсионные фонды   \n",
       "32                               Банки   \n",
       "98                  Страховые компании   \n",
       "57                                ЗПИФ   \n",
       "29                Управляющие компании   \n",
       "\n",
       "                                Ссылка на пресс релиз  \\\n",
       "34  https://www.ra-national.ru/press_release/ao-np...   \n",
       "32  https://www.ra-national.ru/press_release/ao-da...   \n",
       "98  https://www.ra-national.ru/press_release/ao-gr...   \n",
       "57  https://www.ra-national.ru/press_release/zpif-...   \n",
       "29  https://www.ra-national.ru/press_release/veles...   \n",
       "\n",
       "                                                 text  \n",
       "34  ПОДТВЕРЖДЕН НЕКРЕДИТНЫЙ РЕЙТИНГ\\nОбщество с ог...  \n",
       "32  ПОДТВЕРЖДЕН КРЕДИТНЫЙ РЕЙТИНГ\\nОбщество с огра...  \n",
       "98  Общество с ограниченной ответственностью «Наци...  \n",
       "57  Общество с ограниченной ответственностью «Наци...  \n",
       "29  ОТОЗВАН НЕКРЕДИТНЫЙ РЕЙТИНГ\\nОбщество с ограни...  "
      ]
     },
     "execution_count": 40,
     "metadata": {},
     "output_type": "execute_result"
    }
   ],
   "source": [
    "df.sample(5)"
   ]
  },
  {
   "cell_type": "code",
   "execution_count": 39,
   "metadata": {},
   "outputs": [],
   "source": [
    "df.to_csv('../data_output/nra_all.csv')"
   ]
  }
 ],
 "metadata": {
  "kernelspec": {
   "display_name": "base",
   "language": "python",
   "name": "python3"
  },
  "language_info": {
   "codemirror_mode": {
    "name": "ipython",
    "version": 3
   },
   "file_extension": ".py",
   "mimetype": "text/x-python",
   "name": "python",
   "nbconvert_exporter": "python",
   "pygments_lexer": "ipython3",
   "version": "3.9.13"
  },
  "orig_nbformat": 4
 },
 "nbformat": 4,
 "nbformat_minor": 2
}
