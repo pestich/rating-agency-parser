{
 "cells": [
  {
   "cell_type": "code",
   "execution_count": 1,
   "metadata": {},
   "outputs": [],
   "source": [
    "import time\n",
    "import pandas as pd\n",
    "import json\n",
    "\n",
    "from tqdm import tqdm\n",
    "from selenium import webdriver\n",
    "from selenium.webdriver.common.by import By\n",
    "from bs4 import BeautifulSoup\n",
    "from math import ceil"
   ]
  },
  {
   "cell_type": "code",
   "execution_count": 2,
   "metadata": {},
   "outputs": [],
   "source": [
    "BASE_URL = 'https://www.acra-ratings.ru'"
   ]
  },
  {
   "cell_type": "code",
   "execution_count": 46,
   "metadata": {},
   "outputs": [],
   "source": [
    "def collect_data(web_element) -> None:\n",
    "    soup = BeautifulSoup(web_element.get_attribute('outerHTML'), \"html.parser\")\n",
    "    for row in soup.find_all(class_ = 'emits-row search-table-row'):\n",
    "        temp = dict()\n",
    "        columns = row.find_all(class_ ='emits-row__item')\n",
    "        links = row.find_all('a')\n",
    "        temp['name'] = columns[0].text.strip()\n",
    "        temp['name_link'] = BASE_URL + links[0].get('href')\n",
    "        temp['rating'] = columns[1].text.strip()\n",
    "        temp['sector'] = columns[2].text.strip()\n",
    "        temp['date'] = columns[3].text.strip()\n",
    "        temp['press_release_link'] = BASE_URL + links[1].get('href')\n",
    "        global data\n",
    "        data.append(temp)"
   ]
  },
  {
   "cell_type": "code",
   "execution_count": 69,
   "metadata": {},
   "outputs": [],
   "source": [
    "def get_text(web_element, idx) -> None:\n",
    "    soup = BeautifulSoup(web_element.get_attribute('outerHTML'), \"html.parser\")\n",
    "    paragraphs = soup.find_all('p')\n",
    "    result = ''\n",
    "    for paragraph in paragraphs:\n",
    "        result += (paragraph.text.strip() + '\\n')\n",
    "    global data\n",
    "    data[idx]['press_release_text'] = result"
   ]
  },
  {
   "cell_type": "code",
   "execution_count": 52,
   "metadata": {},
   "outputs": [],
   "source": [
    "data = list()"
   ]
  },
  {
   "cell_type": "code",
   "execution_count": 53,
   "metadata": {},
   "outputs": [
    {
     "name": "stdout",
     "output_type": "stream",
     "text": [
      "Starting...\n",
      "##########################################\n",
      "Parsing has finished\n"
     ]
    }
   ],
   "source": [
    "options = webdriver.ChromeOptions()\n",
    "options.add_argument('--headless')\n",
    "\n",
    "browser = webdriver.Chrome(options=options)\n",
    "browser.get('https://www.acra-ratings.ru/ratings/issuers/?text=&sectors[]=&activities[]=&countries[]=&forecasts[]\\\n",
    "        =&on_revision=0&rating_scale=106&rate_from=1&rate_to=23&page=1&sort=&count=10&')\n",
    "time.sleep(2)\n",
    "\n",
    "pages_quantity = browser.find_element(By.XPATH, '/html/body/div[2]/div[1]/div/div/div/div[3]/div/div[1]/div[1]')\n",
    "pages_quantity = ceil(int(pages_quantity.text.split()[-1]) / 10)\n",
    "\n",
    "for page in tqdm(range(1, pages_quantity+1)):\n",
    "    browser.get(f'https://www.acra-ratings.ru/ratings/issuers/?text=&sectors[]=&activities[]=&countries[]=&forecasts[]\\\n",
    "        =&on_revision=0&rating_scale=106&rate_from=1&rate_to=23&page={page}&sort=&count=10&')\n",
    "    time.sleep(3)\n",
    "    table = browser.find_element(By.XPATH, '/html/body/div[2]/div[1]/div/div/div/div[3]/div/div[2]/div[1]/div[1]/div/div')\n",
    "    collect_data(table)\n",
    "\n",
    "browser.quit()\n"
   ]
  },
  {
   "cell_type": "code",
   "execution_count": 73,
   "metadata": {},
   "outputs": [
    {
     "name": "stderr",
     "output_type": "stream",
     "text": [
      "100%|██████████| 413/413 [37:11<00:00,  5.40s/it]\n"
     ]
    }
   ],
   "source": [
    "options = webdriver.ChromeOptions()\n",
    "options.add_argument('--headless')\n",
    "\n",
    "browser = webdriver.Chrome(options=options)\n",
    "\n",
    "for i in tqdm(range(len(data))):\n",
    "    browser.get(data[i]['press_release_link'])\n",
    "    time.sleep(1)\n",
    "    text = browser.find_element(By.XPATH, '/html/body/div[2]/div[1]/div/div/div/div[1]/div[2]/div')\n",
    "    get_text(text, i)\n",
    "\n",
    "browser.quit()"
   ]
  },
  {
   "cell_type": "code",
   "execution_count": 76,
   "metadata": {},
   "outputs": [],
   "source": [
    "data_json = json.dumps(data, indent = 4) "
   ]
  },
  {
   "cell_type": "code",
   "execution_count": 77,
   "metadata": {},
   "outputs": [],
   "source": [
    "df = pd.read_json(data_json)"
   ]
  },
  {
   "cell_type": "code",
   "execution_count": 78,
   "metadata": {},
   "outputs": [
    {
     "data": {
      "text/html": [
       "<div>\n",
       "<style scoped>\n",
       "    .dataframe tbody tr th:only-of-type {\n",
       "        vertical-align: middle;\n",
       "    }\n",
       "\n",
       "    .dataframe tbody tr th {\n",
       "        vertical-align: top;\n",
       "    }\n",
       "\n",
       "    .dataframe thead th {\n",
       "        text-align: right;\n",
       "    }\n",
       "</style>\n",
       "<table border=\"1\" class=\"dataframe\">\n",
       "  <thead>\n",
       "    <tr style=\"text-align: right;\">\n",
       "      <th></th>\n",
       "      <th>name</th>\n",
       "      <th>name_link</th>\n",
       "      <th>rating</th>\n",
       "      <th>sector</th>\n",
       "      <th>date</th>\n",
       "      <th>press_release_link</th>\n",
       "      <th>press_release_text</th>\n",
       "    </tr>\n",
       "  </thead>\n",
       "  <tbody>\n",
       "    <tr>\n",
       "      <th>175</th>\n",
       "      <td>ПАО \"ЯТЭК\"</td>\n",
       "      <td>https://www.acra-ratings.ru/ratings/issuers/256/</td>\n",
       "      <td>A(RU)\\nСтабильный</td>\n",
       "      <td>Корпоративный сектор</td>\n",
       "      <td>6 апр 2023</td>\n",
       "      <td>https://www.acra-ratings.ru/press-releases/3894/</td>\n",
       "      <td>Кредитный рейтинг ПАО «ЯТЭК» (далее — Компания...</td>\n",
       "    </tr>\n",
       "    <tr>\n",
       "      <th>266</th>\n",
       "      <td>ПАО АКБ \"Металлинвестбанк\"</td>\n",
       "      <td>https://www.acra-ratings.ru/ratings/issuers/128/</td>\n",
       "      <td>A-(RU)\\nСтабильный</td>\n",
       "      <td>Кредитные организации</td>\n",
       "      <td>14 дек 2022</td>\n",
       "      <td>https://www.acra-ratings.ru/press-releases/3681/</td>\n",
       "      <td>Кредитный рейтинг ПАО АКБ «Металлинвестбанк» (...</td>\n",
       "    </tr>\n",
       "    <tr>\n",
       "      <th>58</th>\n",
       "      <td>ООО «ОМГ»</td>\n",
       "      <td>https://www.acra-ratings.ru/ratings/issuers/353/</td>\n",
       "      <td>Отозван</td>\n",
       "      <td>Корпоративный сектор</td>\n",
       "      <td>12 июл 2023</td>\n",
       "      <td>https://www.acra-ratings.ru/press-releases/4092/</td>\n",
       "      <td>Аналитическое Кредитное Рейтинговое Агентство ...</td>\n",
       "    </tr>\n",
       "    <tr>\n",
       "      <th>310</th>\n",
       "      <td>Госкорпорация «Росатом»</td>\n",
       "      <td>https://www.acra-ratings.ru/ratings/issuers/226/</td>\n",
       "      <td>AAA(RU)\\nСтабильный</td>\n",
       "      <td>Корпоративный сектор</td>\n",
       "      <td>7 ноя 2022</td>\n",
       "      <td>https://www.acra-ratings.ru/press-releases/3588/</td>\n",
       "      <td>Кредитный рейтинг Государственной корпорации п...</td>\n",
       "    </tr>\n",
       "    <tr>\n",
       "      <th>162</th>\n",
       "      <td>Оренбургская область</td>\n",
       "      <td>https://www.acra-ratings.ru/ratings/issuers/126/</td>\n",
       "      <td>A+(RU)\\nПозитивный</td>\n",
       "      <td>Регионы и муниципалитеты</td>\n",
       "      <td>21 апр 2023</td>\n",
       "      <td>https://www.acra-ratings.ru/press-releases/3923/</td>\n",
       "      <td>Кредитный рейтинг Оренбургской области (далее ...</td>\n",
       "    </tr>\n",
       "  </tbody>\n",
       "</table>\n",
       "</div>"
      ],
      "text/plain": [
       "                           name  \\\n",
       "175                  ПАО \"ЯТЭК\"   \n",
       "266  ПАО АКБ \"Металлинвестбанк\"   \n",
       "58                    ООО «ОМГ»   \n",
       "310     Госкорпорация «Росатом»   \n",
       "162        Оренбургская область   \n",
       "\n",
       "                                            name_link               rating  \\\n",
       "175  https://www.acra-ratings.ru/ratings/issuers/256/    A(RU)\\nСтабильный   \n",
       "266  https://www.acra-ratings.ru/ratings/issuers/128/   A-(RU)\\nСтабильный   \n",
       "58   https://www.acra-ratings.ru/ratings/issuers/353/              Отозван   \n",
       "310  https://www.acra-ratings.ru/ratings/issuers/226/  AAA(RU)\\nСтабильный   \n",
       "162  https://www.acra-ratings.ru/ratings/issuers/126/   A+(RU)\\nПозитивный   \n",
       "\n",
       "                       sector         date  \\\n",
       "175      Корпоративный сектор   6 апр 2023   \n",
       "266     Кредитные организации  14 дек 2022   \n",
       "58       Корпоративный сектор  12 июл 2023   \n",
       "310      Корпоративный сектор   7 ноя 2022   \n",
       "162  Регионы и муниципалитеты  21 апр 2023   \n",
       "\n",
       "                                   press_release_link  \\\n",
       "175  https://www.acra-ratings.ru/press-releases/3894/   \n",
       "266  https://www.acra-ratings.ru/press-releases/3681/   \n",
       "58   https://www.acra-ratings.ru/press-releases/4092/   \n",
       "310  https://www.acra-ratings.ru/press-releases/3588/   \n",
       "162  https://www.acra-ratings.ru/press-releases/3923/   \n",
       "\n",
       "                                    press_release_text  \n",
       "175  Кредитный рейтинг ПАО «ЯТЭК» (далее — Компания...  \n",
       "266  Кредитный рейтинг ПАО АКБ «Металлинвестбанк» (...  \n",
       "58   Аналитическое Кредитное Рейтинговое Агентство ...  \n",
       "310  Кредитный рейтинг Государственной корпорации п...  \n",
       "162  Кредитный рейтинг Оренбургской области (далее ...  "
      ]
     },
     "execution_count": 78,
     "metadata": {},
     "output_type": "execute_result"
    }
   ],
   "source": [
    "df.sample(5)"
   ]
  },
  {
   "cell_type": "code",
   "execution_count": 79,
   "metadata": {},
   "outputs": [],
   "source": [
    "df.to_csv('../data_output/akra_all.csv')"
   ]
  }
 ],
 "metadata": {
  "kernelspec": {
   "display_name": "base",
   "language": "python",
   "name": "python3"
  },
  "language_info": {
   "codemirror_mode": {
    "name": "ipython",
    "version": 3
   },
   "file_extension": ".py",
   "mimetype": "text/x-python",
   "name": "python",
   "nbconvert_exporter": "python",
   "pygments_lexer": "ipython3",
   "version": "3.9.13"
  },
  "orig_nbformat": 4
 },
 "nbformat": 4,
 "nbformat_minor": 2
}
